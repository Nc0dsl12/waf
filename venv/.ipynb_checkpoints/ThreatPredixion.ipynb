{
 "cells": [
  {
   "cell_type": "code",
   "execution_count": null,
   "id": "3663605a-9637-4163-be60-17cd3cc40bde",
   "metadata": {},
   "outputs": [],
   "source": [
    "import pandas as pd\n",
    "import numpy as np"
   ]
  },
  {
   "cell_type": "code",
   "execution_count": null,
   "id": "9333d80a-58e4-4619-a01d-1c53c41e3595",
   "metadata": {},
   "outputs": [],
   "source": [
    "dat_df= pd.read_json('complete_clean.json')"
   ]
  },
  {
   "cell_type": "code",
   "execution_count": null,
   "id": "432bb94d-2329-44c2-aebf-b9b1e8ee3871",
   "metadata": {},
   "outputs": [],
   "source": [
    "dat_df"
   ]
  },
  {
   "cell_type": "code",
   "execution_count": null,
   "id": "c5c2b007-2f64-4eaf-9f54-97a3716551bb",
   "metadata": {},
   "outputs": [],
   "source": [
    "counts = dat_df['type'].value_counts()"
   ]
  },
  {
   "cell_type": "code",
   "execution_count": null,
   "id": "5a905995-59cf-49cb-83cb-5810aca049ae",
   "metadata": {},
   "outputs": [],
   "source": [
    "%matplotlib widget\n",
    "import matplotlib.pyplot as plt"
   ]
  },
  {
   "cell_type": "code",
   "execution_count": null,
   "id": "d8a9ce35-850a-4718-8a8b-a5e3a28c037f",
   "metadata": {},
   "outputs": [],
   "source": [
    "X = dat_df['pattern'].to_numpy().astype(str)\n",
    "y = dat_df['type'].to_numpy().astype(str)"
   ]
  },
  {
   "cell_type": "code",
   "execution_count": null,
   "id": "8adca842-97ed-4c47-863b-007b86ef391f",
   "metadata": {},
   "outputs": [],
   "source": [
    "print(len(X))\n",
    "print(len(y))"
   ]
  },
  {
   "cell_type": "code",
   "execution_count": null,
   "id": "4a336ab4-4a12-472d-9a39-03aaaea44a84",
   "metadata": {
    "scrolled": true
   },
   "outputs": [],
   "source": [
    "counts.plot.pie(figsize=(5, 5))"
   ]
  },
  {
   "cell_type": "code",
   "execution_count": null,
   "id": "b556f65b-6352-4315-bb1b-46b13c17fbfb",
   "metadata": {},
   "outputs": [],
   "source": [
    "from sklearn.feature_extraction.text import TfidfVectorizer\n",
    "from sklearn.svm import SVC\n",
    "from sklearn.pipeline import make_pipeline\n",
    "from sklearn.model_selection import GridSearchCV, train_test_split"
   ]
  },
  {
   "cell_type": "code",
   "execution_count": null,
   "id": "3173c415-1c0f-484e-ae6f-5eba45cf46db",
   "metadata": {},
   "outputs": [],
   "source": [
    "trainX, testX, trainY, testY = train_test_split(X, y, test_size = 0.25, random_state = 42, stratify = y)\n",
    "\n",
    "np.savez('dataset', trainX=trainX, testX=testX, trainY=trainY, testY=testY)"
   ]
  },
  {
   "cell_type": "code",
   "execution_count": null,
   "id": "24ba104c-f073-4fb6-91c1-11dc7e7a414c",
   "metadata": {},
   "outputs": [],
   "source": [
    "pipe = make_pipeline(TfidfVectorizer(input = 'content', lowercase = True, analyzer = 'char', max_features = 1024), SVC())\n",
    "\n",
    "param_grid = {'tfidfvectorizer__ngram_range': [(1, 1), (1, 2), (1, 4)], 'svc__C': [1, 10], 'svc__kernel': ['linear', 'rbf']}\n",
    "\n",
    "grid = GridSearchCV(pipe, param_grid, cv = 2, verbose = 4)\n",
    "\n",
    "grid.fit(trainX, trainY)"
   ]
  },
  {
   "cell_type": "code",
   "execution_count": null,
   "id": "e5179a52-cc98-4af7-82da-cdff2df86a9b",
   "metadata": {},
   "outputs": [],
   "source": [
    "grid.score(testX, testY)"
   ]
  },
  {
   "cell_type": "code",
   "execution_count": null,
   "id": "de14e62d-a49c-4c6c-8226-a61d06047d8a",
   "metadata": {},
   "outputs": [],
   "source": [
    "from sklearn.metrics import classification_report\n",
    "\n",
    "preds = grid.predict(testX)\n",
    "\n",
    "print(classification_report(testY, preds))"
   ]
  },
  {
   "cell_type": "code",
   "execution_count": null,
   "id": "eb7c3670-f7a7-4a50-8ce0-5ecf9c7cce3e",
   "metadata": {},
   "outputs": [],
   "source": [
    "from sklearn.metrics import plot_confusion_matrix\n",
    "\n",
    "plot_confusion_matrix(grid, testX, testY)"
   ]
  },
  {
   "cell_type": "code",
   "execution_count": null,
   "id": "a2e3f311-8bb9-43c1-9865-31bdfc09f157",
   "metadata": {},
   "outputs": [],
   "source": [
    "grid.best_params_"
   ]
  },
  {
   "cell_type": "code",
   "execution_count": null,
   "id": "22e3bccd-83b5-412e-bd8d-f2d3b0fc211a",
   "metadata": {},
   "outputs": [],
   "source": [
    "pipe = make_pipeline(TfidfVectorizer(input = 'content', lowercase = True, analyzer = 'char', max_features = 1024, ngram_range = (1, 2)), SVC(C = 10, kernel = 'rbf'))\n",
    "\n",
    "pipe.fit(trainX, trainY)"
   ]
  },
  {
   "cell_type": "code",
   "execution_count": null,
   "id": "ded9e1ad-bf6e-4c80-8412-9012a40759b8",
   "metadata": {},
   "outputs": [],
   "source": [
    "pipe.score(testX, testY)"
   ]
  },
  {
   "cell_type": "code",
   "execution_count": null,
   "id": "6821b845-914f-4bc8-af17-3ce33c474fac",
   "metadata": {},
   "outputs": [],
   "source": [
    "preds = pipe.predict(testX)\n",
    "\n",
    "print(classification_report(testY, preds))"
   ]
  },
  {
   "cell_type": "code",
   "execution_count": 14,
   "id": "f6152e73-4c44-464d-8222-6975937e6a42",
   "metadata": {},
   "outputs": [
    {
     "ename": "NameError",
     "evalue": "name 'plot_confusion_matrix' is not defined",
     "output_type": "error",
     "traceback": [
      "\u001b[1;31m---------------------------------------------------------------------------\u001b[0m",
      "\u001b[1;31mNameError\u001b[0m                                 Traceback (most recent call last)",
      "Cell \u001b[1;32mIn[14], line 1\u001b[0m\n\u001b[1;32m----> 1\u001b[0m \u001b[43mplot_confusion_matrix\u001b[49m(pipe, testX, testY)\n",
      "\u001b[1;31mNameError\u001b[0m: name 'plot_confusion_matrix' is not defined"
     ]
    }
   ],
   "source": [
    "plot_confusion_matrix(pipe, testX, testY)"
   ]
  },
  {
   "cell_type": "code",
   "execution_count": 15,
   "id": "c58d6aa7-113a-4e74-98b8-6476d7461887",
   "metadata": {},
   "outputs": [
    {
     "ename": "ImportError",
     "evalue": "cannot import name 'joblib' from 'sklearn.externals' (C:\\flaskbook\\venv\\Lib\\site-packages\\sklearn\\externals\\__init__.py)",
     "output_type": "error",
     "traceback": [
      "\u001b[1;31m---------------------------------------------------------------------------\u001b[0m",
      "\u001b[1;31mImportError\u001b[0m                               Traceback (most recent call last)",
      "Cell \u001b[1;32mIn[15], line 1\u001b[0m\n\u001b[1;32m----> 1\u001b[0m \u001b[38;5;28;01mfrom\u001b[39;00m \u001b[38;5;21;01msklearn\u001b[39;00m\u001b[38;5;21;01m.\u001b[39;00m\u001b[38;5;21;01mexternals\u001b[39;00m \u001b[38;5;28;01mimport\u001b[39;00m joblib\n\u001b[0;32m      3\u001b[0m joblib\u001b[38;5;241m.\u001b[39mdump(pipe, \u001b[38;5;124m'\u001b[39m\u001b[38;5;124mpredictor.joblib\u001b[39m\u001b[38;5;124m'\u001b[39m)\n",
      "\u001b[1;31mImportError\u001b[0m: cannot import name 'joblib' from 'sklearn.externals' (C:\\flaskbook\\venv\\Lib\\site-packages\\sklearn\\externals\\__init__.py)"
     ]
    }
   ],
   "source": [
    "from sklearn.externals import joblib\n",
    "\n",
    "joblib.dump(pipe, 'predictor.joblib')"
   ]
  },
  {
   "cell_type": "code",
   "execution_count": null,
   "id": "4791d8ab-4e93-47a0-8242-5286e5cf787e",
   "metadata": {},
   "outputs": [],
   "source": []
  },
  {
   "cell_type": "code",
   "execution_count": null,
   "id": "1e405d61-d575-49f4-bda3-7bfc17945572",
   "metadata": {},
   "outputs": [],
   "source": []
  },
  {
   "cell_type": "code",
   "execution_count": null,
   "id": "62e005c1-bcf7-43d4-a0cf-9093ef0f7769",
   "metadata": {},
   "outputs": [],
   "source": []
  },
  {
   "cell_type": "code",
   "execution_count": null,
   "id": "9f58ac2d-a0b5-4351-8e76-8346475b8014",
   "metadata": {},
   "outputs": [],
   "source": []
  }
 ],
 "metadata": {
  "kernelspec": {
   "display_name": "Python 3 (ipykernel)",
   "language": "python",
   "name": "python3"
  },
  "language_info": {
   "codemirror_mode": {
    "name": "ipython",
    "version": 3
   },
   "file_extension": ".py",
   "mimetype": "text/x-python",
   "name": "python",
   "nbconvert_exporter": "python",
   "pygments_lexer": "ipython3",
   "version": "3.12.4"
  }
 },
 "nbformat": 4,
 "nbformat_minor": 5
}
